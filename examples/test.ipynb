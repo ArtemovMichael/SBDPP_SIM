{
 "cells": [
  {
   "cell_type": "code",
   "execution_count": 1,
   "outputs": [
    {
     "name": "stdout",
     "output_type": "stream",
     "text": [
      "Birth rate: 2.0\n",
      "Death rate: 0.6510494522874917\n"
     ]
    }
   ],
   "source": [
    "import simulation\n",
    "import numpy as np\n",
    "from scipy.stats import rayleigh\n",
    "\n",
    "r_values = np.arange(0, 5.1, 0.1)\n",
    "\n",
    "# 2D standard normal distribution radial density\n",
    "# The radial distribution for a 2D normal is proportional to Rayleigh distribution with scale 1 (standard normal case)\n",
    "def radial_density(r):\n",
    "    return (r / (2 * np.pi)) * np.exp(-0.5 * r**2)\n",
    "\n",
    "radial_density_values = radial_density(r_values)\n",
    "q_values = np.arange(0, 1.0, 0.005)\n",
    "inverse_radial_values = rayleigh.ppf(q_values, scale=1.0)\n",
    "g2 = simulation.PyGrid2(\n",
    "    M=1,\n",
    "    areaLen=[25.0, 25.0],\n",
    "    cellCount=[25, 25],\n",
    "    isPeriodic=False,\n",
    "    birthRates=[1],\n",
    "    deathRates=[0],\n",
    "    ddMatrix=[0.1],         # 1x1 for single species\n",
    "    birthX=[r_values.tolist()],     # example\n",
    "    birthY=[radial_density_values.tolist()],\n",
    "    deathX_=[ [ q_values.tolist() ] ],\n",
    "    deathY_=[ [ inverse_radial_values.tolist() ] ],\n",
    "    cutoffs=[5.0],\n",
    "    seed=42,\n",
    "    rtimeLimit=1000.0\n",
    ")\n",
    "\n",
    "initCoords = [ [ [1.0, 2.0], [2.0, 3.0], ] ]\n",
    "g2.placePopulation(initCoords)\n",
    "\n",
    "print(\"Birth rate:\", g2.total_birth_rate)\n",
    "print(\"Death rate:\", g2.total_death_rate)"
   ],
   "metadata": {
    "collapsed": false
   }
  },
  {
   "cell_type": "code",
   "execution_count": 2,
   "outputs": [],
   "source": [
    "for i in range(g2.get_num_cells()):\n",
    "    if not (g2.get_cell_birth_rate(i) == g2.get_cell_population(i)[0][0]):\n",
    "        print(g2.get_cell_birth_rate(i), g2.get_cell_population(i)[0][0])"
   ],
   "metadata": {
    "collapsed": false
   }
  },
  {
   "cell_type": "code",
   "execution_count": 3,
   "outputs": [],
   "source": [
    "for i in range(g2.get_num_cells()):\n",
    "    if not sum(g2.get_cell_death_rates(i,0))==g2.get_cell_death_rate(i):\n",
    "        print(sum(g2.get_cell_death_rates(i,0)),g2.get_cell_death_rate(i))"
   ],
   "metadata": {
    "collapsed": false
   }
  },
  {
   "cell_type": "code",
   "execution_count": 4,
   "outputs": [],
   "source": [
    "for i in range(100):\n",
    "    g2.spawn_random()"
   ],
   "metadata": {
    "collapsed": false
   }
  },
  {
   "cell_type": "code",
   "execution_count": 5,
   "outputs": [],
   "source": [
    "for i in range(g2.get_num_cells()):\n",
    "    if not (g2.get_cell_birth_rate(i) == g2.get_cell_population(i)[0][0]):\n",
    "        print(g2.get_cell_birth_rate(i), g2.get_cell_population(i)[0][0])"
   ],
   "metadata": {
    "collapsed": false
   }
  },
  {
   "cell_type": "code",
   "execution_count": 6,
   "outputs": [
    {
     "name": "stdout",
     "output_type": "stream",
     "text": [
      "191.66868700930456 191.6686870093053\n",
      "663.6002825708808 663.6002825708617\n",
      "106.91091214987308 106.91091214987257\n",
      "326.7067359079372 326.7067359079357\n",
      "125.73430452240315 125.73430452240243\n",
      "230.0332621586571 230.0332621586583\n",
      "293.53916439013796 293.5391643901378\n"
     ]
    }
   ],
   "source": [
    "for i in range(g2.get_num_cells()):\n",
    "    if not sum(g2.get_cell_death_rates(i,0))==g2.get_cell_death_rate(i):\n",
    "        print(sum(g2.get_cell_death_rates(i,0)),g2.get_cell_death_rate(i))"
   ],
   "metadata": {
    "collapsed": false
   }
  },
  {
   "cell_type": "code",
   "execution_count": 7,
   "outputs": [],
   "source": [
    "for i in range(100):\n",
    "    g2.kill_random()"
   ],
   "metadata": {
    "collapsed": false
   }
  },
  {
   "cell_type": "code",
   "execution_count": 8,
   "outputs": [],
   "source": [
    "for i in range(g2.get_num_cells()):\n",
    "    if not (g2.get_cell_birth_rate(i) == g2.get_cell_population(i)[0][0]):\n",
    "        print(g2.get_cell_birth_rate(i), g2.get_cell_population(i)[0][0])"
   ],
   "metadata": {
    "collapsed": false
   }
  },
  {
   "cell_type": "code",
   "execution_count": 9,
   "outputs": [
    {
     "name": "stdout",
     "output_type": "stream",
     "text": [
      "0 3.161915174132446e-13\n",
      "0.04788619944483233 0.04788619944066405\n",
      "0 -4.2543746303636e-13\n",
      "0.04788619944482449 0.04788619944303037\n",
      "0 -2.318145675417327e-13\n",
      "0 2.935429677108914e-13\n",
      "0 -3.6415315207705135e-14\n"
     ]
    }
   ],
   "source": [
    "for i in range(g2.get_num_cells()):\n",
    "    if not sum(g2.get_cell_death_rates(i,0))==g2.get_cell_death_rate(i):\n",
    "        print(sum(g2.get_cell_death_rates(i,0)),g2.get_cell_death_rate(i))"
   ],
   "metadata": {
    "collapsed": false
   }
  },
  {
   "cell_type": "code",
   "execution_count": 4,
   "outputs": [
    {
     "name": "stdout",
     "output_type": "stream",
     "text": [
      "Birth rate: 213.0\n",
      "Death rate: 295.22112412401344\n",
      "time: 12.195036796264358  event_count: 1002\n"
     ]
    }
   ],
   "source": [
    "print(\"Birth rate:\", g2.total_birth_rate)\n",
    "print(\"Death rate:\", g2.total_death_rate)\n",
    "\n",
    "g2.make_event()\n",
    "print(\"time:\", g2.time, \" event_count:\", g2.event_count)"
   ],
   "metadata": {
    "collapsed": false
   }
  },
  {
   "cell_type": "code",
   "execution_count": 5,
   "outputs": [
    {
     "name": "stdout",
     "output_type": "stream",
     "text": [
      "Birth rate: 224.0\n",
      "Death rate: 130.49779393907485\n",
      "Population: 224\n"
     ]
    }
   ],
   "source": [
    "print(\"Birth rate:\", g2.total_birth_rate)\n",
    "print(\"Death rate:\", g2.total_death_rate)\n",
    "print(\"Population:\", g2.total_population)"
   ],
   "metadata": {
    "collapsed": false
   }
  },
  {
   "cell_type": "code",
   "execution_count": 7,
   "outputs": [
    {
     "data": {
      "text/plain": "[0.0,\n 0.0,\n 0.0,\n 0.0,\n 0.0,\n 0.0,\n 0.0,\n 0.0,\n 0.0,\n 0.0,\n 0.0,\n 0.0,\n 0.0,\n 0.0,\n 0.0,\n 0.0,\n 0.0,\n 0.0,\n 0.0,\n 0.0,\n 0.0,\n 0.0,\n 0.0,\n 0.0,\n 0.0,\n 1.0,\n 47.0,\n 0.0,\n 0.0,\n 0.0,\n 0.0,\n 0.0,\n 0.0,\n 0.0,\n 0.0,\n 0.0,\n 0.0,\n 0.0,\n 0.0,\n 0.0,\n 0.0,\n 0.0,\n 0.0,\n 0.0,\n 0.0,\n 0.0,\n 0.0,\n 0.0,\n 0.0,\n 0.0,\n 0.0,\n 24.0,\n 104.0,\n 0.0,\n 0.0,\n 0.0,\n 0.0,\n 0.0,\n 0.0,\n 0.0,\n 0.0,\n 0.0,\n 0.0,\n 0.0,\n 0.0,\n 0.0,\n 0.0,\n 0.0,\n 0.0,\n 0.0,\n 0.0,\n 0.0,\n 0.0,\n 0.0,\n 0.0,\n 0.0,\n 4.0,\n 32.0,\n 0.0,\n 0.0,\n 0.0,\n 0.0,\n 0.0,\n 0.0,\n 0.0,\n 0.0,\n 0.0,\n 0.0,\n 0.0,\n 0.0,\n 0.0,\n 0.0,\n 0.0,\n 0.0,\n 0.0,\n 0.0,\n 0.0,\n 0.0,\n 0.0,\n 0.0,\n 0.0,\n 0.0,\n 0.0,\n 0.0,\n 0.0,\n 0.0,\n 0.0,\n 0.0,\n 0.0,\n 0.0,\n 0.0,\n 0.0,\n 0.0,\n 0.0,\n 0.0,\n 0.0,\n 0.0,\n 0.0,\n 0.0,\n 0.0,\n 0.0,\n 0.0,\n 0.0,\n 0.0,\n 0.0,\n 0.0,\n 0.0,\n 0.0,\n 0.0,\n 0.0,\n 0.0,\n 0.0,\n 0.0,\n 0.0,\n 0.0,\n 0.0,\n 0.0,\n 0.0,\n 0.0,\n 0.0,\n 0.0,\n 0.0,\n 0.0,\n 0.0,\n 0.0,\n 0.0,\n 0.0,\n 0.0,\n 0.0,\n 0.0,\n 0.0,\n 0.0,\n 0.0,\n 0.0,\n 0.0,\n 0.0,\n 0.0,\n 0.0,\n 0.0,\n 0.0,\n 0.0,\n 0.0,\n 0.0,\n 0.0,\n 0.0,\n 0.0,\n 0.0,\n 0.0,\n 0.0,\n 0.0,\n 0.0,\n 0.0,\n 0.0,\n 0.0,\n 0.0,\n 0.0,\n 0.0,\n 0.0,\n 0.0,\n 0.0,\n 0.0,\n 0.0,\n 0.0,\n 0.0,\n 0.0,\n 0.0,\n 0.0,\n 0.0,\n 0.0,\n 0.0,\n 0.0,\n 0.0,\n 0.0,\n 0.0,\n 0.0,\n 0.0,\n 0.0,\n 0.0,\n 0.0,\n 0.0,\n 0.0,\n 0.0,\n 0.0,\n 0.0,\n 0.0,\n 0.0,\n 0.0,\n 0.0,\n 0.0,\n 0.0,\n 0.0,\n 0.0,\n 0.0,\n 0.0,\n 0.0,\n 0.0,\n 0.0,\n 0.0,\n 0.0,\n 0.0,\n 0.0,\n 0.0,\n 0.0,\n 0.0,\n 0.0,\n 0.0,\n 0.0,\n 0.0,\n 0.0,\n 0.0,\n 0.0,\n 0.0,\n 0.0,\n 0.0,\n 0.0,\n 0.0,\n 0.0,\n 0.0,\n 0.0,\n 0.0,\n 0.0,\n 0.0,\n 0.0,\n 0.0,\n 0.0,\n 0.0,\n 0.0,\n 0.0,\n 0.0,\n 0.0,\n 0.0,\n 0.0,\n 0.0,\n 0.0,\n 0.0,\n 0.0,\n 0.0,\n 0.0,\n 0.0,\n 0.0,\n 0.0,\n 0.0,\n 0.0,\n 0.0,\n 0.0,\n 0.0,\n 0.0,\n 0.0,\n 0.0,\n 0.0,\n 0.0,\n 0.0,\n 0.0,\n 0.0,\n 0.0,\n 0.0,\n 0.0,\n 0.0,\n 0.0,\n 0.0,\n 0.0,\n 0.0,\n 0.0,\n 0.0,\n 0.0,\n 0.0,\n 0.0,\n 0.0,\n 0.0,\n 0.0,\n 0.0,\n 0.0,\n 0.0,\n 0.0,\n 0.0,\n 0.0,\n 0.0,\n 0.0,\n 0.0,\n 0.0,\n 0.0,\n 0.0,\n 0.0,\n 0.0,\n 0.0,\n 0.0,\n 0.0,\n 0.0,\n 0.0,\n 0.0,\n 0.0,\n 0.0,\n 0.0,\n 0.0,\n 0.0,\n 0.0,\n 0.0,\n 0.0,\n 0.0,\n 0.0,\n 0.0,\n 0.0,\n 0.0,\n 0.0,\n 0.0,\n 0.0,\n 0.0,\n 0.0,\n 0.0,\n 0.0,\n 0.0,\n 0.0,\n 0.0,\n 0.0,\n 0.0,\n 0.0,\n 0.0,\n 0.0,\n 0.0,\n 0.0,\n 0.0,\n 0.0,\n 0.0,\n 0.0,\n 0.0,\n 0.0,\n 0.0,\n 0.0,\n 0.0,\n 0.0,\n 0.0,\n 0.0,\n 0.0,\n 0.0,\n 0.0,\n 0.0,\n 0.0,\n 0.0,\n 0.0,\n 0.0,\n 0.0,\n 0.0,\n 0.0,\n 0.0,\n 0.0,\n 0.0,\n 0.0,\n 0.0,\n 0.0,\n 0.0,\n 0.0,\n 0.0,\n 0.0,\n 0.0,\n 0.0,\n 0.0,\n 0.0,\n 0.0,\n 0.0,\n 0.0,\n 0.0,\n 0.0,\n 0.0,\n 0.0,\n 0.0,\n 0.0,\n 0.0,\n 0.0,\n 0.0,\n 0.0,\n 0.0,\n 0.0,\n 0.0,\n 0.0,\n 0.0,\n 0.0,\n 0.0,\n 0.0,\n 0.0,\n 0.0,\n 0.0,\n 0.0,\n 0.0,\n 0.0,\n 0.0,\n 0.0,\n 0.0,\n 0.0,\n 0.0,\n 0.0,\n 0.0,\n 0.0,\n 0.0,\n 0.0,\n 0.0,\n 0.0,\n 0.0,\n 0.0,\n 0.0,\n 0.0,\n 0.0,\n 0.0,\n 0.0,\n 0.0,\n 0.0,\n 0.0,\n 0.0,\n 0.0,\n 0.0,\n 0.0,\n 0.0,\n 0.0,\n 0.0,\n 0.0,\n 0.0,\n 0.0,\n 0.0,\n 0.0,\n 0.0,\n 0.0,\n 0.0,\n 0.0,\n 0.0,\n 0.0,\n 0.0,\n 0.0,\n 0.0,\n 0.0,\n 0.0,\n 0.0,\n 0.0,\n 0.0,\n 0.0,\n 0.0,\n 0.0,\n 0.0,\n 0.0,\n 0.0,\n 0.0,\n 0.0,\n 0.0,\n 0.0,\n 0.0,\n 0.0,\n 0.0,\n 0.0,\n 0.0,\n 0.0,\n 0.0,\n 0.0,\n 0.0,\n 0.0,\n 0.0,\n 0.0,\n 0.0,\n 0.0,\n 0.0,\n 0.0,\n 0.0,\n 0.0,\n 0.0,\n 0.0,\n 0.0,\n 0.0,\n 0.0,\n 0.0,\n 0.0,\n 0.0,\n 0.0,\n 0.0,\n 0.0,\n 0.0,\n 0.0,\n 0.0,\n 0.0,\n 0.0,\n 0.0,\n 0.0,\n 0.0,\n 0.0,\n 0.0,\n 0.0,\n 0.0,\n 0.0,\n 0.0,\n 0.0,\n 0.0,\n 0.0,\n 0.0,\n 0.0,\n 0.0,\n 0.0,\n 0.0,\n 0.0,\n 0.0,\n 0.0,\n 0.0,\n 0.0,\n 0.0,\n 0.0,\n 0.0,\n 0.0,\n 0.0,\n 0.0,\n 0.0,\n 0.0,\n 0.0,\n 0.0,\n 0.0,\n 0.0,\n 0.0,\n 0.0,\n 0.0,\n 0.0,\n 0.0,\n 0.0,\n 0.0,\n 0.0,\n 0.0,\n 0.0,\n 0.0,\n 0.0,\n 0.0,\n 0.0,\n 0.0,\n 0.0,\n 0.0,\n 0.0,\n 0.0,\n 0.0,\n 0.0,\n 0.0,\n 0.0,\n 0.0,\n 0.0,\n 0.0,\n 0.0,\n 0.0,\n 0.0,\n 0.0,\n 0.0,\n 0.0,\n 0.0,\n 0.0,\n 0.0,\n 0.0,\n 0.0,\n 0.0,\n 0.0,\n 0.0,\n 0.0,\n 0.0,\n 0.0,\n 0.0,\n 0.0,\n 0.0,\n 0.0,\n 0.0,\n 0.0,\n 0.0,\n 0.0,\n 0.0,\n 0.0,\n 0.0,\n 0.0,\n 0.0,\n 0.0,\n 0.0,\n 0.0,\n 0.0,\n 0.0,\n 0.0,\n 0.0,\n 0.0,\n 0.0,\n 0.0,\n 0.0,\n 0.0,\n 0.0,\n 0.0,\n 0.0,\n 0.0,\n 0.0,\n 0.0,\n 0.0,\n 0.0,\n 0.0,\n 0.0,\n 0.0,\n 0.0,\n 0.0,\n 0.0,\n 0.0,\n 0.0,\n 0.0,\n 0.0,\n 0.0,\n 0.0,\n 0.0,\n 0.0,\n 0.0,\n 0.0,\n 0.0,\n 0.0,\n 0.0]"
     },
     "execution_count": 7,
     "metadata": {},
     "output_type": "execute_result"
    }
   ],
   "source": [
    "[g2.get_cell_birth_rate(i) for i in range(g2.get_num_cells())]"
   ],
   "metadata": {
    "collapsed": false
   }
  },
  {
   "cell_type": "code",
   "execution_count": 8,
   "outputs": [],
   "source": [
    "for i in range(g2.get_num_cells()):\n",
    "    if not (g2.get_cell_birth_rate(i) == g2.get_cell_population(i)[0][0]):\n",
    "        print(g2.get_cell_birth_rate(i), g2.get_cell_population(i)[0][0])"
   ],
   "metadata": {
    "collapsed": false
   }
  },
  {
   "cell_type": "code",
   "execution_count": 9,
   "outputs": [
    {
     "name": "stdout",
     "output_type": "stream",
     "text": [
      "56.525725459204715 2.9675447641006425\n",
      "2629.0360568248257 19.910514812816103\n",
      "0 -3.2345119512095284\n",
      "692.848379722699 7.337164066111259\n",
      "2788.822513122907 118.47407323185938\n",
      "121.38319954145103 -19.928748386607026\n",
      "880.5373879586323 88.23284974573976\n"
     ]
    }
   ],
   "source": [
    "for i in range(g2.get_num_cells()):\n",
    "    if not sum(g2.get_cell_death_rates(i,0))==g2.get_cell_death_rate(i):\n",
    "        print(sum(g2.get_cell_death_rates(i,0)),g2.get_cell_death_rate(i))"
   ],
   "metadata": {
    "collapsed": false
   }
  },
  {
   "cell_type": "code",
   "execution_count": 9,
   "outputs": [
    {
     "name": "stdout",
     "output_type": "stream",
     "text": [
      "Birth rate: 571.799999999993\n",
      "Death rate: 325.79237725866244\n",
      "time: 103.65827402827667  event_count: 10248\n",
      "Birth rate: 622.6000000000046\n",
      "Death rate: 361.04869808413576\n",
      "time: 104.65918857854143  event_count: 11244\n",
      "Birth rate: 682.2000000000181\n",
      "Death rate: 413.76637038510074\n",
      "time: 105.66049792828804  event_count: 12334\n",
      "Birth rate: 740.0000000000313\n",
      "Death rate: 462.70173164137753\n",
      "time: 106.66063603030084  event_count: 13446\n",
      "Birth rate: 800.400000000045\n",
      "Death rate: 476.1306536326109\n",
      "time: 107.66151566906062  event_count: 14692\n",
      "Birth rate: 866.0000000000599\n",
      "Death rate: 525.0581843731954\n",
      "time: 108.66192531765105  event_count: 15976\n",
      "Birth rate: 932.600000000075\n",
      "Death rate: 575.6377145717578\n",
      "time: 109.6636769834629  event_count: 17399\n",
      "Birth rate: 1015.0000000000938\n",
      "Death rate: 631.3070972915783\n",
      "time: 110.66463687384258  event_count: 18999\n",
      "Birth rate: 1091.8000000001111\n",
      "Death rate: 661.8962135880623\n",
      "time: 111.66494226505448  event_count: 20712\n",
      "Birth rate: 1172.2000000001294\n",
      "Death rate: 731.7063019486653\n",
      "time: 112.66540218549419  event_count: 22540\n",
      "Birth rate: 1246.4000000001463\n",
      "Death rate: 711.0222344132394\n",
      "time: 113.66561590246236  event_count: 24401\n",
      "Birth rate: 1333.6000000001661\n",
      "Death rate: 717.3672623202708\n",
      "time: 114.66636080083968  event_count: 26437\n",
      "Birth rate: 1433.2000000001888\n",
      "Death rate: 839.9512508314291\n",
      "time: 115.66667563440839  event_count: 28587\n",
      "Birth rate: 1541.4000000002134\n",
      "Death rate: 914.6950918624361\n",
      "time: 116.66684247548724  event_count: 31089\n",
      "Birth rate: 1656.6000000002396\n",
      "Death rate: 933.6173340791044\n",
      "time: 117.66757929685355  event_count: 33651\n",
      "Birth rate: 1784.0000000002685\n",
      "Death rate: 1047.9884594406233\n",
      "time: 118.66769862728736  event_count: 36279\n",
      "Birth rate: 1915.8000000002985\n",
      "Death rate: 1103.8071603108344\n",
      "time: 119.66826932764293  event_count: 39232\n",
      "Birth rate: 2065.000000000313\n",
      "Death rate: 1261.761889823176\n",
      "time: 120.66850864237671  event_count: 42379\n",
      "Birth rate: 2212.6000000001786\n",
      "Death rate: 1310.0708530149625\n",
      "time: 121.66854529541978  event_count: 45892\n",
      "Birth rate: 2379.8000000000266\n",
      "Death rate: 1447.5153327511844\n",
      "time: 122.66859566777228  event_count: 49572\n",
      "Birth rate: 2547.7999999998738\n",
      "Death rate: 1561.8922608559235\n",
      "time: 123.6688482423095  event_count: 53505\n",
      "Birth rate: 2754.5999999996857\n",
      "Death rate: 1827.0343185734523\n",
      "time: 124.66920281882453  event_count: 57890\n",
      "Birth rate: 2958.7999999995\n",
      "Death rate: 2018.5713399856945\n",
      "time: 125.66976923562616  event_count: 62571\n",
      "Birth rate: 3156.1999999993204\n",
      "Death rate: 1851.905942383425\n",
      "time: 126.66990215481322  event_count: 67581\n",
      "Birth rate: 3388.3999999991092\n",
      "Death rate: 2061.845369692398\n",
      "time: 127.67013165155433  event_count: 72804\n",
      "Birth rate: 3631.599999998888\n",
      "Death rate: 2279.6760242519695\n",
      "time: 128.6702168658823  event_count: 78255\n",
      "Birth rate: 3881.199999998661\n",
      "Death rate: 2410.6644728449073\n",
      "time: 129.67026818101158  event_count: 84169\n",
      "Birth rate: 4172.799999998396\n",
      "Death rate: 2681.3403748956\n",
      "time: 130.6706186492057  event_count: 90725\n",
      "Birth rate: 4463.799999998131\n",
      "Death rate: 2717.935850003291\n",
      "time: 131.67086718026658  event_count: 97784\n",
      "Birth rate: 4772.59999999785\n",
      "Death rate: 3069.5670695997374\n",
      "time: 132.67102984421751  event_count: 105102\n",
      "Birth rate: 5100.599999997552\n",
      "Death rate: 3060.6799203866494\n",
      "time: 133.67107042247687  event_count: 113171\n",
      "Birth rate: 5468.999999997217\n",
      "Death rate: 3423.1234921166883\n",
      "time: 134.67117877024086  event_count: 121751\n",
      "Birth rate: 5851.799999996869\n",
      "Death rate: 3676.527184054694\n",
      "time: 135.6711884909018  event_count: 130785\n",
      "Birth rate: 6270.9999999964875\n",
      "Death rate: 3895.4232384243705\n",
      "time: 136.6712520088385  event_count: 140770\n",
      "Birth rate: 6697.999999996099\n",
      "Death rate: 4149.770028259265\n",
      "time: 137.67129671667965  event_count: 151286\n",
      "Birth rate: 7179.1999999956615\n",
      "Death rate: 4323.401994192779\n",
      "time: 138.67135726691328  event_count: 162745\n",
      "Birth rate: 7686.5999999952\n",
      "Death rate: 4654.386168381402\n",
      "time: 139.6713667880121  event_count: 174851\n",
      "Birth rate: 8205.99999999479\n",
      "Death rate: 4849.368833766114\n",
      "time: 140.67136900315333  event_count: 187602\n",
      "Birth rate: 8798.399999996946\n",
      "Death rate: 5799.365180229476\n",
      "time: 141.671373452082  event_count: 201308\n",
      "Birth rate: 9397.799999999126\n",
      "Death rate: 6132.374918630983\n",
      "time: 142.6713803297336  event_count: 216120\n",
      "Birth rate: 10053.600000001512\n",
      "Death rate: 6363.366290814543\n",
      "time: 143.67140837945306  event_count: 232039\n",
      "Birth rate: 10751.000000004049\n",
      "Death rate: 6857.1301907506895\n",
      "time: 144.671562623191  event_count: 248997\n",
      "Birth rate: 11512.000000006818\n",
      "Death rate: 7635.030796167234\n",
      "time: 145.67157534723273  event_count: 267317\n",
      "Birth rate: 12332.600000009803\n",
      "Death rate: 7756.632708709033\n",
      "time: 146.6716125908366  event_count: 287245\n",
      "Birth rate: 13176.000000012871\n",
      "Death rate: 8374.462077375707\n",
      "time: 147.67169044442576  event_count: 308010\n",
      "Birth rate: 14098.800000016228\n",
      "Death rate: 8590.19920612534\n",
      "time: 148.6717814154824  event_count: 330402\n",
      "Birth rate: 15060.200000019726\n",
      "Death rate: 9505.062723016368\n",
      "time: 149.6718097183976  event_count: 354248\n",
      "Birth rate: 16118.400000023576\n",
      "Death rate: 10731.581504754431\n",
      "time: 150.67185041866907  event_count: 379730\n",
      "Birth rate: 17239.400000027654\n",
      "Death rate: 11059.0089451717\n",
      "time: 151.67188190187585  event_count: 407396\n",
      "Birth rate: 18406.4000000319\n",
      "Death rate: 12316.436420762666\n",
      "time: 152.67189318250814  event_count: 436438\n"
     ]
    }
   ],
   "source": [
    "for i in range(50):\n",
    "    g2.run_for(1)\n",
    "    print(\"Birth rate:\", g2.total_birth_rate)\n",
    "    print(\"Death rate:\", g2.total_death_rate)\n",
    "    print(\"time:\", g2.time, \" event_count:\", g2.event_count)"
   ],
   "metadata": {
    "collapsed": false
   }
  },
  {
   "cell_type": "code",
   "execution_count": null,
   "outputs": [],
   "source": [
    "for i in range(g2.get_num_cells()):\n",
    "    if g2.get_cell_coords(i,0): print(g2.get_cell_coords(i,0))"
   ],
   "metadata": {
    "collapsed": false
   }
  },
  {
   "cell_type": "code",
   "execution_count": null,
   "outputs": [],
   "source": [
    "g2.spawn_random()"
   ],
   "metadata": {
    "collapsed": false
   }
  },
  {
   "cell_type": "code",
   "execution_count": null,
   "outputs": [],
   "source": [],
   "metadata": {
    "collapsed": false
   }
  }
 ],
 "metadata": {
  "kernelspec": {
   "display_name": "Python 3",
   "language": "python",
   "name": "python3"
  },
  "language_info": {
   "codemirror_mode": {
    "name": "ipython",
    "version": 2
   },
   "file_extension": ".py",
   "mimetype": "text/x-python",
   "name": "python",
   "nbconvert_exporter": "python",
   "pygments_lexer": "ipython2",
   "version": "2.7.6"
  }
 },
 "nbformat": 4,
 "nbformat_minor": 0
}
