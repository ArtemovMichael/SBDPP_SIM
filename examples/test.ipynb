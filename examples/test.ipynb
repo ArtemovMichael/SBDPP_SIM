{
 "cells": [
  {
   "cell_type": "code",
   "execution_count": 1,
   "outputs": [
    {
     "name": "stdout",
     "output_type": "stream",
     "text": [
      "Birth rate: 2.0\n",
      "Death rate: 0.01656019165329197\n"
     ]
    }
   ],
   "source": [
    "import simulation\n",
    "import numpy as np\n",
    "from scipy.stats import rayleigh\n",
    "\n",
    "r_values = np.arange(0, 5.01, 0.01)\n",
    "\n",
    "# 2D standard normal distribution radial density\n",
    "# The radial distribution for a 2D normal is proportional to Rayleigh distribution with scale 1 (standard normal case)\n",
    "def radial_density(r):\n",
    "    return (r / (2 * np.pi)) * np.exp(-0.5 * r**2)\n",
    "\n",
    "radial_density_values = radial_density(r_values)\n",
    "q_values = np.arange(0, 1.0, 0.001)\n",
    "inverse_radial_values = rayleigh.ppf(q_values, scale=1.0)\n",
    "g2 = simulation.PyGrid2(\n",
    "    M=1,\n",
    "    areaLen=[25.0, 25.0],\n",
    "    cellCount=[25, 25],\n",
    "    isPeriodic=False,\n",
    "    birthRates=[1],\n",
    "    deathRates=[0],\n",
    "    ddMatrix=[0.1],         # 1x1 for single species\n",
    "    birthX=[q_values.tolist()],     # example\n",
    "    birthY=[inverse_radial_values.tolist()],\n",
    "    deathX_=[ [ r_values.tolist() ] ],\n",
    "    deathY_=[ [ radial_density_values.tolist() ] ],\n",
    "    cutoffs=[5.0],\n",
    "    seed=42,\n",
    "    rtimeLimit=1000.0\n",
    ")\n",
    "\n",
    "initCoords = [ [ [1.0, 2.0], [2.0, 3.0], ] ]\n",
    "g2.placePopulation(initCoords)\n",
    "\n",
    "print(\"Birth rate:\", g2.total_birth_rate)\n",
    "print(\"Death rate:\", g2.total_death_rate)"
   ],
   "metadata": {
    "collapsed": false
   }
  },
  {
   "cell_type": "code",
   "execution_count": 2,
   "outputs": [],
   "source": [
    "for i in range(1000000):\n",
    "    g2.make_event()"
   ],
   "metadata": {
    "collapsed": false
   }
  },
  {
   "cell_type": "code",
   "execution_count": 3,
   "outputs": [
    {
     "name": "stdout",
     "output_type": "stream",
     "text": [
      "Birth rate: 5090.0\n",
      "Death rate: 4724.648841250491\n",
      "Total population: 5090\n",
      "time: 118.9428008739637  event_count: 1000000\n"
     ]
    }
   ],
   "source": [
    "    print(\"Birth rate:\", g2.total_birth_rate)\n",
    "    print(\"Death rate:\", g2.total_death_rate)\n",
    "    print(\"Total population:\", g2.total_population)\n",
    "    print(\"time:\", g2.time, \" event_count:\", g2.event_count)"
   ],
   "metadata": {
    "collapsed": false
   }
  },
  {
   "cell_type": "code",
   "execution_count": null,
   "outputs": [],
   "source": [],
   "metadata": {
    "collapsed": false
   }
  }
 ],
 "metadata": {
  "kernelspec": {
   "display_name": "Python 3",
   "language": "python",
   "name": "python3"
  },
  "language_info": {
   "codemirror_mode": {
    "name": "ipython",
    "version": 2
   },
   "file_extension": ".py",
   "mimetype": "text/x-python",
   "name": "python",
   "nbconvert_exporter": "python",
   "pygments_lexer": "ipython2",
   "version": "2.7.6"
  }
 },
 "nbformat": 4,
 "nbformat_minor": 0
}
