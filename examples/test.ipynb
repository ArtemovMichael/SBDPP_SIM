{
 "cells": [
  {
   "cell_type": "code",
   "execution_count": 1,
   "outputs": [],
   "source": [
    "from simulation.grid_1d_interface import PyGrid1D"
   ],
   "metadata": {
    "collapsed": false
   }
  },
  {
   "cell_type": "code",
   "execution_count": 2,
   "outputs": [],
   "source": [
    "import numpy as np\n",
    "from scipy.stats import norm\n",
    "\n",
    "# Generate death_y equivalent to dnorm in R\n",
    "death_y = norm.pdf(np.linspace(0, 5, 1001), scale=1)\n",
    "\n",
    "# Generate birth_ircdf_y equivalent to qnorm in R\n",
    "birth_ircdf_y = norm.ppf(np.linspace(0.5, 1 - 1e-6, 101), scale=1)"
   ],
   "metadata": {
    "collapsed": false
   }
  },
  {
   "cell_type": "code",
   "execution_count": 3,
   "outputs": [],
   "source": [
    "simulator = PyGrid1D(area_length_x=100,b=1,d=0,dd=0.01,cell_count_x=100,initial_population=[1,2,3,4],\n",
    "                     seed=123, death_values=list(death_y), death_cutoff_r=5,birth_values=list(birth_ircdf_y),periodic=False,realtime_limit=1000)"
   ],
   "metadata": {
    "collapsed": false
   }
  },
  {
   "cell_type": "code",
   "execution_count": 4,
   "outputs": [
    {
     "name": "stdout",
     "output_type": "stream",
     "text": [
      "Runtime: 45.270803928375244 seconds\n"
     ]
    }
   ],
   "source": [
    "import time\n",
    "\n",
    "start_time = time.time()\n",
    "simulator.run_for(100)\n",
    "end_time = time.time()\n",
    "\n",
    "runtime = end_time - start_time\n",
    "print(f\"Runtime: {runtime} seconds\")"
   ],
   "metadata": {
    "collapsed": false
   }
  },
  {
   "cell_type": "code",
   "execution_count": 5,
   "outputs": [
    {
     "data": {
      "text/plain": "10094"
     },
     "execution_count": 5,
     "metadata": {},
     "output_type": "execute_result"
    }
   ],
   "source": [
    "len(simulator.get_all_x_coords())"
   ],
   "metadata": {
    "collapsed": false
   }
  },
  {
   "cell_type": "code",
   "execution_count": 2,
   "outputs": [
    {
     "name": "stdout",
     "output_type": "stream",
     "text": [
      "ModuleSpec(name='simulation', loader=<_frozen_importlib_external.SourceFileLoader object at 0x0000022B2086CDF0>, origin='C:\\\\Users\\\\radia\\\\PycharmProjects\\\\SBDPP_sim\\\\simulation\\\\__init__.py', submodule_search_locations=['C:\\\\Users\\\\radia\\\\PycharmProjects\\\\SBDPP_sim\\\\simulation'])\n"
     ]
    }
   ],
   "source": [
    "import importlib.util\n",
    "\n",
    "\n",
    "print(importlib.util.find_spec('simulation'))\n"
   ],
   "metadata": {
    "collapsed": false
   }
  },
  {
   "cell_type": "code",
   "execution_count": 3,
   "outputs": [],
   "source": [
    "import simulation"
   ],
   "metadata": {
    "collapsed": false
   }
  },
  {
   "cell_type": "code",
   "execution_count": 5,
   "outputs": [
    {
     "name": "stdout",
     "output_type": "stream",
     "text": [
      "Birth rate: 0.4\n",
      "Death rate: 0.2\n",
      "After 1 event => time: 2.6538342023538823  event_count: 1\n"
     ]
    }
   ],
   "source": [
    "import simulation\n",
    "\n",
    "g2 = simulation.PyGrid2(\n",
    "    M=1,\n",
    "    areaLen=[100.0, 100.0],\n",
    "    cellCount=[100, 100],\n",
    "    isPeriodic=False,\n",
    "    birthRates=[0.2],\n",
    "    deathRates=[0.1],\n",
    "    ddMatrix=[0.05],         # 1x1 for single species\n",
    "    birthX=[[0.0, 1.0]],     # example\n",
    "    birthY=[[0.0, 10.0]],\n",
    "    deathX_=[ [ [0.0, 1.0] ] ],\n",
    "    deathY_=[ [ [0.0, 4.0] ] ],\n",
    "    cutoffs=[5.0],\n",
    "    seed=42,\n",
    "    rtimeLimit=1000.0\n",
    ")\n",
    "\n",
    "initCoords = [ [ [10.0, 20.0], [30.0, 50.0] ] ]\n",
    "g2.placeInitialPopulations(initCoords)\n",
    "g2.computeInitialDeathRates()\n",
    "\n",
    "print(\"Birth rate:\", g2.total_birth_rate)\n",
    "print(\"Death rate:\", g2.total_death_rate)\n",
    "\n",
    "g2.make_event()\n",
    "print(\"After 1 event => time:\", g2.time, \" event_count:\", g2.event_count)"
   ],
   "metadata": {
    "collapsed": false
   }
  },
  {
   "cell_type": "code",
   "execution_count": null,
   "outputs": [],
   "source": [],
   "metadata": {
    "collapsed": false
   }
  }
 ],
 "metadata": {
  "kernelspec": {
   "display_name": "Python 3",
   "language": "python",
   "name": "python3"
  },
  "language_info": {
   "codemirror_mode": {
    "name": "ipython",
    "version": 2
   },
   "file_extension": ".py",
   "mimetype": "text/x-python",
   "name": "python",
   "nbconvert_exporter": "python",
   "pygments_lexer": "ipython2",
   "version": "2.7.6"
  }
 },
 "nbformat": 4,
 "nbformat_minor": 0
}
